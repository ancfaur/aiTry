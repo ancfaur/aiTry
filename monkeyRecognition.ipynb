{
 "cells": [
  {
   "cell_type": "code",
   "execution_count": 1,
   "metadata": {},
   "outputs": [
    {
     "name": "stderr",
     "output_type": "stream",
     "text": [
      "C:\\Users\\Anca\\Anaconda3\\envs\\tensorflow-cpu\\lib\\site-packages\\h5py\\__init__.py:36: FutureWarning: Conversion of the second argument of issubdtype from `float` to `np.floating` is deprecated. In future, it will be treated as `np.float64 == np.dtype(float).type`.\n",
      "  from ._conv import register_converters as _register_converters\n"
     ]
    },
    {
     "name": "stdout",
     "output_type": "stream",
     "text": [
      "tensorflow 1.7.0\n",
      "skimage 0.13.1\n",
      "matplotlib 2.2.2\n",
      "numpy 1.14.2\n",
      "random n\u0007\n"
     ]
    },
    {
     "name": "stderr",
     "output_type": "stream",
     "text": [
      "Using TensorFlow backend.\n"
     ]
    }
   ],
   "source": [
    "%load_ext watermark\n",
    "%watermark -p tensorflow,skimage,matplotlib,numpy,random\n",
    "\n",
    "import pandas as pd\n",
    "import numpy as np\n",
    "import matplotlib.pyplot as plt\n",
    "import h5py\n",
    "import os\n",
    "from random import shuffle\n",
    "from tqdm import tqdm\n",
    "\n",
    "from skimage import data, io, filters\n",
    "from skimage import transform\n",
    "from skimage import data\n",
    "\n",
    "# ### CPU ONLY SESSION\n",
    "# ###################################################################\n",
    "# os.environ[\"CUDA_DEVICE_ORDER\"] = \"PCI_BUS_ID\"   # see issue #152\n",
    "# os.environ[\"CUDA_VISIBLE_DEVICES\"] = \"\"\n",
    "# ###################################################################\n",
    "\n",
    "import tensorflow as tf\n",
    "from keras.preprocessing.image import load_img, img_to_array, array_to_img\n",
    "from keras.preprocessing.image import ImageDataGenerator\n",
    "\n",
    "\n",
    "from keras.models import Sequential\n",
    "from keras.layers import Dense\n",
    "from keras.layers import Conv2D\n",
    "from keras.layers import MaxPooling2D\n",
    "from keras.layers import Flatten\n",
    "from keras.layers import Dropout\n",
    "\n",
    "#for the pretrained model\n",
    "from keras.applications import ResNet50\n",
    "from keras.layers import GlobalAveragePooling2D\n",
    "from keras.applications.resnet50 import preprocess_input\n",
    "\n",
    "from keras.models import load_model\n",
    "from keras.optimizers import RMSprop\n",
    "from keras.callbacks import EarlyStopping\n",
    "from keras import regularizers\n",
    "\n",
    "\n",
    "# FOR GPU session\n",
    "# from keras.backend.tensorflow_backend import set_session\n",
    "# config = tf.ConfigProto(log_device_placement=True)\n",
    "# config.gpu_options.allow_growth = True\n",
    "# set_session(tf.Session(config=config))"
   ]
  },
  {
   "cell_type": "code",
   "execution_count": 2,
   "metadata": {},
   "outputs": [
    {
     "data": {
      "text/html": [
       "<div>\n",
       "<style scoped>\n",
       "    .dataframe tbody tr th:only-of-type {\n",
       "        vertical-align: middle;\n",
       "    }\n",
       "\n",
       "    .dataframe tbody tr th {\n",
       "        vertical-align: top;\n",
       "    }\n",
       "\n",
       "    .dataframe thead th {\n",
       "        text-align: right;\n",
       "    }\n",
       "</style>\n",
       "<table border=\"1\" class=\"dataframe\">\n",
       "  <thead>\n",
       "    <tr style=\"text-align: right;\">\n",
       "      <th></th>\n",
       "      <th>Label</th>\n",
       "      <th>Latin Name</th>\n",
       "      <th>Common Name</th>\n",
       "      <th>Train Images</th>\n",
       "      <th>Validation Images</th>\n",
       "    </tr>\n",
       "  </thead>\n",
       "  <tbody>\n",
       "    <tr>\n",
       "      <th>0</th>\n",
       "      <td>n0</td>\n",
       "      <td>alouatta_palliata\\t</td>\n",
       "      <td>mantled_howler</td>\n",
       "      <td>131</td>\n",
       "      <td>26</td>\n",
       "    </tr>\n",
       "    <tr>\n",
       "      <th>1</th>\n",
       "      <td>n1</td>\n",
       "      <td>erythrocebus_patas\\t</td>\n",
       "      <td>patas_monkey</td>\n",
       "      <td>139</td>\n",
       "      <td>28</td>\n",
       "    </tr>\n",
       "    <tr>\n",
       "      <th>2</th>\n",
       "      <td>n2</td>\n",
       "      <td>cacajao_calvus\\t</td>\n",
       "      <td>bald_uakari</td>\n",
       "      <td>137</td>\n",
       "      <td>27</td>\n",
       "    </tr>\n",
       "    <tr>\n",
       "      <th>3</th>\n",
       "      <td>n3</td>\n",
       "      <td>macaca_fuscata\\t</td>\n",
       "      <td>japanese_macaque</td>\n",
       "      <td>152</td>\n",
       "      <td>30</td>\n",
       "    </tr>\n",
       "    <tr>\n",
       "      <th>4</th>\n",
       "      <td>n4</td>\n",
       "      <td>cebuella_pygmea\\t</td>\n",
       "      <td>pygmy_marmoset</td>\n",
       "      <td>131</td>\n",
       "      <td>26</td>\n",
       "    </tr>\n",
       "    <tr>\n",
       "      <th>5</th>\n",
       "      <td>n5</td>\n",
       "      <td>cebus_capucinus\\t</td>\n",
       "      <td>white_headed_capuchin</td>\n",
       "      <td>141</td>\n",
       "      <td>28</td>\n",
       "    </tr>\n",
       "    <tr>\n",
       "      <th>6</th>\n",
       "      <td>n6</td>\n",
       "      <td>mico_argentatus\\t</td>\n",
       "      <td>silvery_marmoset</td>\n",
       "      <td>132</td>\n",
       "      <td>26</td>\n",
       "    </tr>\n",
       "    <tr>\n",
       "      <th>7</th>\n",
       "      <td>n7</td>\n",
       "      <td>saimiri_sciureus\\t</td>\n",
       "      <td>common_squirrel_monkey</td>\n",
       "      <td>142</td>\n",
       "      <td>28</td>\n",
       "    </tr>\n",
       "    <tr>\n",
       "      <th>8</th>\n",
       "      <td>n8</td>\n",
       "      <td>aotus_nigriceps\\t</td>\n",
       "      <td>black_headed_night_monkey</td>\n",
       "      <td>133</td>\n",
       "      <td>27</td>\n",
       "    </tr>\n",
       "    <tr>\n",
       "      <th>9</th>\n",
       "      <td>n9</td>\n",
       "      <td>trachypithecus_johnii</td>\n",
       "      <td>nilgiri_langur</td>\n",
       "      <td>132</td>\n",
       "      <td>26</td>\n",
       "    </tr>\n",
       "  </tbody>\n",
       "</table>\n",
       "</div>"
      ],
      "text/plain": [
       "   Label                Latin Name                      Common Name  \\\n",
       "0  n0         alouatta_palliata\\t    mantled_howler                   \n",
       "1  n1        erythrocebus_patas\\t    patas_monkey                     \n",
       "2  n2        cacajao_calvus\\t        bald_uakari                      \n",
       "3  n3        macaca_fuscata\\t        japanese_macaque                 \n",
       "4  n4       cebuella_pygmea\\t        pygmy_marmoset                   \n",
       "5  n5       cebus_capucinus\\t        white_headed_capuchin            \n",
       "6  n6       mico_argentatus\\t        silvery_marmoset                 \n",
       "7  n7      saimiri_sciureus\\t        common_squirrel_monkey           \n",
       "8  n8       aotus_nigriceps\\t        black_headed_night_monkey        \n",
       "9  n9       trachypithecus_johnii    nilgiri_langur                   \n",
       "\n",
       "   Train Images  Validation Images  \n",
       "0           131                 26  \n",
       "1           139                 28  \n",
       "2           137                 27  \n",
       "3           152                 30  \n",
       "4           131                 26  \n",
       "5           141                 28  \n",
       "6           132                 26  \n",
       "7           142                 28  \n",
       "8           133                 27  \n",
       "9           132                 26  "
      ]
     },
     "execution_count": 2,
     "metadata": {},
     "output_type": "execute_result"
    }
   ],
   "source": [
    "train_dir = '../monkeyDataset/training'\n",
    "validate_dir = '../monkeyDataset/validation'\n",
    "\n",
    "cols = ['Label','Latin Name', 'Common Name','Train Images', 'Validation Images']\n",
    "infoFile = pd.read_csv(\"../monkeyDataset/monkey_labels.txt\", names=cols, skiprows=1)\n",
    "infoFile"
   ]
  },
  {
   "cell_type": "raw",
   "metadata": {},
   "source": [
    "# make columns of a dataframe to list\n",
    "imagesTrain = infoFile['Train Images'].tolist()\n",
    "labels = infoFile['Label'].tolist()\n",
    "\n",
    "plt.bar(labels, imagesTrain)\n",
    "plt.xlabel('classes')\n",
    "plt.ylabel('no examples in train set')\n",
    "plt.title('Train set class distribution')\n",
    "plt.show()"
   ]
  },
  {
   "cell_type": "raw",
   "metadata": {},
   "source": [
    "# loading the data with the help of https://www.datacamp.com/community/tutorials/tensorflow-tutorial#tensors\n",
    "# and https://pythonprogramming.net/convolutional-neural-network-kats-vs-dogs-machine-learning-tutorial/\n",
    "names = infoFile['Common Name'].tolist()\n",
    "def get_label(x):\n",
    "    return {\n",
    "        'n0': 0,\n",
    "        'n1': 1,\n",
    "        'n2': 2,\n",
    "        'n3': 3,\n",
    "        'n4': 4,\n",
    "        'n5': 5,\n",
    "        'n6': 6,\n",
    "        'n7': 7,\n",
    "        'n8': 8,\n",
    "        'n9': 9,\n",
    "    }[x]\n",
    "\n",
    "\n",
    "def show_examples(data_directory):\n",
    "    # take the subdirectories of monkeys\n",
    "    subdirs = [subdir for subdir in os.listdir(data_directory) if os.path.isdir(os.path.join(data_directory, subdir))]\n",
    "    for subdir in subdirs:\n",
    "        class_directory = os.path.join(data_directory, subdir)\n",
    "        first_file_path = os.path.join(class_directory, os.listdir(class_directory)[0])\n",
    "        image= data.imread(first_file_path, as_grey=False)\n",
    "        image= transform.resize(image, (256, 256))\n",
    "        plt.figure()\n",
    "        plt.title(names[get_label(subdir)])\n",
    "        plt.imshow(image)\n",
    "    \n",
    "# see an example of each class\n",
    "show_examples(train_dir)"
   ]
  },
  {
   "cell_type": "code",
   "execution_count": 3,
   "metadata": {},
   "outputs": [
    {
     "name": "stdout",
     "output_type": "stream",
     "text": [
      "Found 1097 images belonging to 10 classes.\n",
      "Found 272 images belonging to 10 classes.\n"
     ]
    }
   ],
   "source": [
    "train_dir = '../monkeyDataset/training'\n",
    "validate_dir = '../monkeyDataset/validation'\n",
    "\n",
    "# for the convolutional network, we get help from: http://www.cs.ucc.ie/~dgb/courses/ai2/14_convnet_example.pdf\n",
    "train_data_generator = ImageDataGenerator(rescale=1./255)\n",
    "train_generator = train_data_generator.flow_from_directory(\n",
    "    train_dir, target_size=(150,150), batch_size=20, class_mode=\"categorical\")\n",
    "\n",
    "val_data_generator = ImageDataGenerator(rescale=1./255)\n",
    "val_generator = val_data_generator.flow_from_directory(\n",
    "    validate_dir, target_size=(150,150), batch_size=20, class_mode=\"categorical\")\n"
   ]
  },
  {
   "cell_type": "code",
   "execution_count": 4,
   "metadata": {},
   "outputs": [
    {
     "name": "stdout",
     "output_type": "stream",
     "text": [
      "_________________________________________________________________\n",
      "Layer (type)                 Output Shape              Param #   \n",
      "=================================================================\n",
      "conv2d_1 (Conv2D)            (None, 148, 148, 32)      896       \n",
      "_________________________________________________________________\n",
      "max_pooling2d_1 (MaxPooling2 (None, 74, 74, 32)        0         \n",
      "_________________________________________________________________\n",
      "conv2d_2 (Conv2D)            (None, 72, 72, 64)        18496     \n",
      "_________________________________________________________________\n",
      "max_pooling2d_2 (MaxPooling2 (None, 36, 36, 64)        0         \n",
      "_________________________________________________________________\n",
      "conv2d_3 (Conv2D)            (None, 34, 34, 128)       73856     \n",
      "_________________________________________________________________\n",
      "max_pooling2d_3 (MaxPooling2 (None, 17, 17, 128)       0         \n",
      "_________________________________________________________________\n",
      "conv2d_4 (Conv2D)            (None, 15, 15, 128)       147584    \n",
      "_________________________________________________________________\n",
      "max_pooling2d_4 (MaxPooling2 (None, 7, 7, 128)         0         \n",
      "_________________________________________________________________\n",
      "flatten_1 (Flatten)          (None, 6272)              0         \n",
      "_________________________________________________________________\n",
      "dense_1 (Dense)              (None, 512)               3211776   \n",
      "_________________________________________________________________\n",
      "dense_2 (Dense)              (None, 10)                5130      \n",
      "=================================================================\n",
      "Total params: 3,457,738\n",
      "Trainable params: 3,457,738\n",
      "Non-trainable params: 0\n",
      "_________________________________________________________________\n"
     ]
    }
   ],
   "source": [
    "def build_convnet():\n",
    "    network = Sequential()\n",
    "    network.add(Conv2D(32, (3, 3), activation=\"relu\", input_shape=(150, 150, 3)))\n",
    "    network.add(MaxPooling2D((2, 2)))\n",
    "    network.add(Conv2D(64, (3, 3), activation=\"relu\"))\n",
    "    network.add(MaxPooling2D((2, 2)))\n",
    "    network.add(Conv2D(128, (3, 3), activation=\"relu\"))\n",
    "    network.add(MaxPooling2D((2, 2)))\n",
    "    network.add(Conv2D(128, (3, 3), activation=\"relu\"))\n",
    "    network.add(MaxPooling2D((2, 2)))\n",
    "    network.add(Flatten())\n",
    "    network.add(Dense(512, activation=\"relu\"))\n",
    "    network.add(Dense(10, activation=\"softmax\"))\n",
    "    network.compile(optimizer=RMSprop(lr=0.0003), loss=\"categorical_crossentropy\", metrics=[\"accuracy\"])\n",
    "    return network\n",
    "\n",
    "network = build_convnet()\n",
    "network.summary()"
   ]
  },
  {
   "cell_type": "code",
   "execution_count": 8,
   "metadata": {},
   "outputs": [],
   "source": [
    "# run model with no early stopping => it carries on learning for 30 epochs\n",
    "# history = network.fit_generator(\n",
    "#     train_generator, steps_per_epoch=54, epochs=30,\n",
    "#     validation_data=val_generator, validation_steps=13,\n",
    "#     verbose=0)\n",
    "\n",
    "# train_loss = history.history[\"loss\"]\n",
    "# val_loss = history.history[\"val_loss\"]\n",
    "\n",
    "# x_vals = range(1, 31)\n",
    "# fig = plt.figure()\n",
    "# plt.title(\"Loss\")\n",
    "# plt.plot(x_vals, train_loss, label=\"Training loss\", color = \"purple\")\n",
    "# plt.plot(x_vals, val_loss, label=\"Validation loss\", color = \"orange\")\n",
    "# plt.legend()\n",
    "# plt.show()\n",
    "\n",
    "# train_acc = history.history[\"acc\"]\n",
    "# val_acc = history.history[\"val_acc\"]\n",
    "\n",
    "# fig = plt.figure()\n",
    "# plt.title(\"Accuracy\")\n",
    "# plt.plot(x_vals, train_acc, label=\"Training accuracy\", color = \"purple\")\n",
    "# plt.plot(x_vals, val_acc, label=\"Validation accuracy\", color = \"orange\")\n",
    "# plt.legend()\n",
    "# plt.show()"
   ]
  },
  {
   "cell_type": "code",
   "execution_count": 5,
   "metadata": {
    "scrolled": false
   },
   "outputs": [],
   "source": [
    "# we set the param patience=2 to have an early stopping <=>  interrupts training when \n",
    "# the loss has stopped improving for more than two epochs\n",
    "history = network.fit_generator(\n",
    "    train_generator, steps_per_epoch=100, epochs=30,\n",
    "    validation_data=val_generator, validation_steps=50,\n",
    "    callbacks=[EarlyStopping(monitor=\"val_loss\", patience=2)],\n",
    "    verbose=0)"
   ]
  },
  {
   "cell_type": "code",
   "execution_count": 41,
   "metadata": {},
   "outputs": [
    {
     "name": "stdout",
     "output_type": "stream",
     "text": [
      "We can see that the model stopped training after epoches = 8\n"
     ]
    },
    {
     "data": {
      "image/png": "[encoded data removed]",
      "text/plain": [
       "<Figure size 432x288 with 1 Axes>"
      ]
     },
     "metadata": {},
     "output_type": "display_data"
    },
    {
     "data": {
      "image/png": "[encoded data removed]",
      "text/plain": [
       "<Figure size 432x288 with 1 Axes>"
      ]
     },
     "metadata": {},
     "output_type": "display_data"
    }
   ],
   "source": [
    "# plot loss and accuracy for early stopping\n",
    "results = history.history\n",
    "no_epochs_runned= len(results[\"acc\"]) + 1 \n",
    "print(\"We can see that the model stopped training after epoches =\", no_epochs_runned)\n",
    "\n",
    "train_loss = history.history[\"loss\"]\n",
    "val_loss = history.history[\"val_loss\"]\n",
    " \n",
    "x_vals = range(1, no_epochs_runned)\n",
    "fig = plt.figure()\n",
    "plt.title(\"Loss\")\n",
    "plt.plot(x_vals, train_loss, label=\"Training loss\", color = \"purple\")\n",
    "plt.plot(x_vals, val_loss, label=\"Validation loss\", color = \"orange\")\n",
    "plt.legend()\n",
    "plt.show()\n",
    "\n",
    "train_acc = history.history[\"acc\"]\n",
    "val_acc = history.history[\"val_acc\"]\n",
    "\n",
    "fig = plt.figure()\n",
    "plt.title(\"Accuracy\")\n",
    "plt.plot(x_vals, train_acc, label=\"Training accuracy\", color = \"purple\")\n",
    "plt.plot(x_vals, val_acc, label=\"Validation accuracy\", color = \"orange\")\n",
    "plt.legend()\n",
    "plt.show()\n"
   ]
  },
  {
   "cell_type": "code",
   "execution_count": 42,
   "metadata": {},
   "outputs": [
    {
     "name": "stdout",
     "output_type": "stream",
     "text": [
      "Train loss= 0.49775741956268654\n",
      "Validation loss= 1.0548049360513687\n",
      "Train accuracy= 0.831494484526463\n",
      "Validation accuracy 0.6793032788106652\n"
     ]
    }
   ],
   "source": [
    "# Since patience was 2, perhaps display the metrics from just before that point\n",
    "train_loss = history.history[\"loss\"][-3]\n",
    "val_loss = history.history[\"val_loss\"][-3]\n",
    "train_acc = history.history[\"acc\"][-3]\n",
    "val_acc = history.history[\"val_acc\"][-3]\n",
    "\n",
    "print(\"Train loss=\",train_loss)\n",
    "print(\"Validation loss=\",val_loss)\n",
    "print(\"Train accuracy=\", train_acc)\n",
    "print(\"Validation accuracy\", val_acc)"
   ]
  },
  {
   "cell_type": "markdown",
   "metadata": {},
   "source": [
    "<p dir=\"ltr\"><span style=\"font-size: 20pt;\"><strong>Overcome the overfitting problem</strong></span></p>\n",
    "<p dir=\"ltr\"><span style=\"font-size: 14pt;\">Firstly, apply data argumentation on the training set to increase the number of training examples.&nbsp;</span></p>\n",
    "<p dir=\"ltr\"><span style=\"font-size: 14pt;\">Exemplify the following strategies for overcoming the overfitting problem in the case of networks:</span></p>\n",
    "<p dir=\"ltr\"><span style=\"font-size: 14pt;\">1. Weight Regularization</span></p>\n",
    "<p dir=\"ltr\"><span style=\"font-size: 14pt;\">2. Dropout</span></p>"
   ]
  },
  {
   "cell_type": "markdown",
   "metadata": {},
   "source": [
    " <p dir=\"ltr\"><span style=\"font-size: 24px;\"><strong>Data argumentation</strong></span></p>"
   ]
  },
  {
   "cell_type": "code",
   "execution_count": 28,
   "metadata": {},
   "outputs": [
    {
     "name": "stdout",
     "output_type": "stream",
     "text": [
      "Found 1097 images belonging to 10 classes.\n"
     ]
    }
   ],
   "source": [
    "# as we have very few examples, we use data augumentation <=> synthetically create new examples in the trainset\n",
    "# of the classes using image transformations\n",
    "augmented_train_data_generator = ImageDataGenerator(\n",
    "    rescale=1./255,\n",
    "    rotation_range=40,                 # degree range for random rotations\n",
    "    width_shift_range=0.2,             # range for random horizontal shifts\n",
    "    height_shift_range=0.2,            # range for random vertical shifts\n",
    "    zoom_range=0.2,                    # range for random zoom\n",
    "    horizontal_flip=True,              # randomly, whether to flip inputs horizontally\n",
    "    fill_mode=\"nearest\")               #  the strategy for filling-in newly created pixels that appear\n",
    "                                       # after some of the other transformations\n",
    "\n",
    "augumented_train_generator = augmented_train_data_generator.flow_from_directory(\n",
    "    train_dir, target_size=(150,150), batch_size=20, class_mode=\"categorical\")"
   ]
  },
  {
   "cell_type": "raw",
   "metadata": {},
   "source": [
    "# let's see how a nice monkey looks after this image transformations\n",
    "oneMonkeyImage = load_img(\"../monkeyDataset/training/n0/n0018.jpg\", target_size=(150,150))\n",
    "oneMonkeyArray = img_to_array(oneMonkeyImage)\n",
    "oneMonkeyArray = oneMonkeyArray.reshape((1,) + oneMonkeyArray.shape)\n",
    "i=1\n",
    "for batch in augmented_train_data_generator.flow(oneMonkeyArray, batch_size=1):\n",
    "    plt.figure(i)\n",
    "    imgplot = plt.imshow(array_to_img(batch[0]))\n",
    "    if i % 5 ==0:\n",
    "        break\n",
    "    i= i+1\n",
    "plt.show()"
   ]
  },
  {
   "cell_type": "markdown",
   "metadata": {},
   "source": [
    " <p dir=\"ltr\"><span style=\"font-size: 24px;\"><strong>Weight Regularization</strong></span></p>"
   ]
  },
  {
   "cell_type": "code",
   "execution_count": 47,
   "metadata": {},
   "outputs": [
    {
     "name": "stdout",
     "output_type": "stream",
     "text": [
      "_________________________________________________________________\n",
      "Layer (type)                 Output Shape              Param #   \n",
      "=================================================================\n",
      "conv2d_29 (Conv2D)           (None, 148, 148, 32)      896       \n",
      "_________________________________________________________________\n",
      "max_pooling2d_29 (MaxPooling (None, 74, 74, 32)        0         \n",
      "_________________________________________________________________\n",
      "conv2d_30 (Conv2D)           (None, 72, 72, 64)        18496     \n",
      "_________________________________________________________________\n",
      "max_pooling2d_30 (MaxPooling (None, 36, 36, 64)        0         \n",
      "_________________________________________________________________\n",
      "conv2d_31 (Conv2D)           (None, 34, 34, 128)       73856     \n",
      "_________________________________________________________________\n",
      "max_pooling2d_31 (MaxPooling (None, 17, 17, 128)       0         \n",
      "_________________________________________________________________\n",
      "conv2d_32 (Conv2D)           (None, 15, 15, 128)       147584    \n",
      "_________________________________________________________________\n",
      "max_pooling2d_32 (MaxPooling (None, 7, 7, 128)         0         \n",
      "_________________________________________________________________\n",
      "flatten_8 (Flatten)          (None, 6272)              0         \n",
      "_________________________________________________________________\n",
      "dense_15 (Dense)             (None, 512)               3211776   \n",
      "_________________________________________________________________\n",
      "dense_16 (Dense)             (None, 10)                5130      \n",
      "=================================================================\n",
      "Total params: 3,457,738\n",
      "Trainable params: 3,457,738\n",
      "Non-trainable params: 0\n",
      "_________________________________________________________________\n"
     ]
    }
   ],
   "source": [
    "def build_regulated_convnet():\n",
    "    network = Sequential()\n",
    "    network.add(Conv2D(32, (3, 3), activation=\"relu\", input_shape=(150, 150, 3)))\n",
    "    network.add(MaxPooling2D((2, 2)))\n",
    "    network.add(Conv2D(64, (3, 3), activation=\"relu\", kernel_regularizer=regularizers.l2(0.01)))\n",
    "    network.add(MaxPooling2D((2, 2)))\n",
    "    network.add(Conv2D(128, (3, 3), activation=\"relu\", kernel_regularizer=regularizers.l2(0.01)))\n",
    "    network.add(MaxPooling2D((2, 2)))\n",
    "    network.add(Conv2D(128, (3, 3), activation=\"relu\", kernel_regularizer=regularizers.l2(0.01)))\n",
    "    network.add(MaxPooling2D((2, 2)))\n",
    "    network.add(Flatten())\n",
    "    network.add(Dense(512, activation=\"relu\", kernel_regularizer=regularizers.l2(0.01)))\n",
    "    network.add(Dense(10, activation=\"softmax\", kernel_regularizer=regularizers.l2(0.01)))\n",
    "    network.compile(optimizer=RMSprop(lr=0.0003), loss=\"categorical_crossentropy\", metrics=[\"accuracy\"])\n",
    "    return network\n",
    "\n",
    "regulated_network = build_regulated_convnet()\n",
    "regulated_network.summary()"
   ]
  },
  {
   "cell_type": "code",
   "execution_count": 34,
   "metadata": {},
   "outputs": [
    {
     "name": "stdout",
     "output_type": "stream",
     "text": [
      "We can see that the model stopped training after epoches = 7\n",
      "Using the original dataset:\n",
      "Train loss= 1.2881495633839248\n",
      "Validation loss= 1.4369028950812386\n",
      "Train accuracy= 0.6925388080332359\n",
      "Validation accuracy 0.6270491794728842\n"
     ]
    }
   ],
   "source": [
    "history = regulated_network.fit_generator(\n",
    "    train_generator, steps_per_epoch=54, epochs=30,\n",
    "    validation_data=val_generator, validation_steps=13,\n",
    "    callbacks=[EarlyStopping(monitor=\"val_loss\", patience=2)],\n",
    "    verbose=0)\n",
    "\n",
    "results = history.history\n",
    "no_epochs_runned= len(results[\"acc\"]) + 1 \n",
    "print(\"We can see that the model stopped training after epoches =\", no_epochs_runned)\n",
    "\n",
    "# Since patience was 2, perhaps display the metrics from just before that point\n",
    "train_loss = history.history[\"loss\"][-3]\n",
    "val_loss = history.history[\"val_loss\"][-3]\n",
    "train_acc = history.history[\"acc\"][-3]\n",
    "val_acc = history.history[\"val_acc\"][-3]\n",
    "\n",
    "print(\"Using the original dataset:\")\n",
    "print(\"Train loss=\",train_loss)\n",
    "print(\"Validation loss=\",val_loss)\n",
    "print(\"Train accuracy=\", train_acc)\n",
    "print(\"Validation accuracy\", val_acc)"
   ]
  },
  {
   "cell_type": "code",
   "execution_count": 31,
   "metadata": {},
   "outputs": [
    {
     "name": "stdout",
     "output_type": "stream",
     "text": [
      "We can see that the model stopped training after epoches = 13\n",
      "Train loss= 1.8098891774713544\n",
      "Validation loss= 1.606824568060578\n",
      "Train accuracy= 0.4776494233887259\n",
      "Validation accuracy 0.5809426223401164\n"
     ]
    }
   ],
   "source": [
    "history = regulated_network.fit_generator(\n",
    "    augumented_train_generator, steps_per_epoch=54, epochs=30,\n",
    "    validation_data=val_generator, validation_steps=13,\n",
    "    callbacks=[EarlyStopping(monitor=\"val_loss\", patience=2)],\n",
    "    verbose=0)\n",
    "\n",
    "results = history.history\n",
    "no_epochs_runned= len(results[\"acc\"]) + 1 \n",
    "print(\"We can see that the model stopped training after epoches =\", no_epochs_runned)\n",
    "\n",
    "# Since patience was 2, perhaps display the metrics from just before that point\n",
    "train_loss = history.history[\"loss\"][-3]\n",
    "val_loss = history.history[\"val_loss\"][-3]\n",
    "train_acc = history.history[\"acc\"][-3]\n",
    "val_acc = history.history[\"val_acc\"][-3]\n",
    "\n",
    "print(\"Using the argumented dataset:\")\n",
    "print(\"Train loss=\",train_loss)\n",
    "print(\"Validation loss=\",val_loss)\n",
    "print(\"Train accuracy=\", train_acc)\n",
    "print(\"Validation accuracy\", val_acc)"
   ]
  },
  {
   "cell_type": "markdown",
   "metadata": {},
   "source": [
    " <p dir=\"ltr\"><span style=\"font-size: 24px;\"><strong>Dropout</strong></span></p>"
   ]
  },
  {
   "cell_type": "code",
   "execution_count": 58,
   "metadata": {},
   "outputs": [
    {
     "name": "stdout",
     "output_type": "stream",
     "text": [
      "_________________________________________________________________\n",
      "Layer (type)                 Output Shape              Param #   \n",
      "=================================================================\n",
      "conv2d_41 (Conv2D)           (None, 148, 148, 32)      896       \n",
      "_________________________________________________________________\n",
      "max_pooling2d_41 (MaxPooling (None, 74, 74, 32)        0         \n",
      "_________________________________________________________________\n",
      "conv2d_42 (Conv2D)           (None, 72, 72, 64)        18496     \n",
      "_________________________________________________________________\n",
      "max_pooling2d_42 (MaxPooling (None, 36, 36, 64)        0         \n",
      "_________________________________________________________________\n",
      "conv2d_43 (Conv2D)           (None, 34, 34, 128)       73856     \n",
      "_________________________________________________________________\n",
      "max_pooling2d_43 (MaxPooling (None, 17, 17, 128)       0         \n",
      "_________________________________________________________________\n",
      "conv2d_44 (Conv2D)           (None, 15, 15, 128)       147584    \n",
      "_________________________________________________________________\n",
      "max_pooling2d_44 (MaxPooling (None, 7, 7, 128)         0         \n",
      "_________________________________________________________________\n",
      "flatten_11 (Flatten)         (None, 6272)              0         \n",
      "_________________________________________________________________\n",
      "dropout_8 (Dropout)          (None, 6272)              0         \n",
      "_________________________________________________________________\n",
      "dense_21 (Dense)             (None, 512)               3211776   \n",
      "_________________________________________________________________\n",
      "dense_22 (Dense)             (None, 10)                5130      \n",
      "=================================================================\n",
      "Total params: 3,457,738\n",
      "Trainable params: 3,457,738\n",
      "Non-trainable params: 0\n",
      "_________________________________________________________________\n"
     ]
    }
   ],
   "source": [
    "def build_dropout_convnet():\n",
    "    network = Sequential()\n",
    "    network.add(Conv2D(32, (3, 3), activation=\"relu\", input_shape=(150,150, 3)))\n",
    "    network.add(MaxPooling2D((2, 2)))\n",
    "    network.add(Conv2D(64, (3, 3), activation=\"relu\"))\n",
    "    network.add(MaxPooling2D((2, 2)))\n",
    "    network.add(Conv2D(128, (3, 3), activation=\"relu\"))\n",
    "    network.add(MaxPooling2D((2, 2)))\n",
    "    network.add(Conv2D(128, (3, 3), activation=\"relu\"))\n",
    "    network.add(MaxPooling2D((2, 2)))\n",
    "    network.add(Flatten())\n",
    "    network.add(Dropout(0.5))\n",
    "    network.add(Dense(512, activation=\"relu\"))\n",
    "    network.add(Dense(10, activation=\"softmax\", kernel_regularizer=regularizers.l2(0.01)))\n",
    "    network.compile(optimizer=RMSprop(lr=0.0003), loss=\"categorical_crossentropy\", metrics=[\"accuracy\"])\n",
    "    return network\n",
    "\n",
    "dropout_network = build_dropout_convnet()\n",
    "dropout_network.summary()"
   ]
  },
  {
   "cell_type": "code",
   "execution_count": 59,
   "metadata": {},
   "outputs": [
    {
     "name": "stdout",
     "output_type": "stream",
     "text": [
      "We can see that the model stopped training after epoches = 18\n",
      "Using the original dataset:\n",
      "Train loss= 0.5420499211549759\n",
      "Validation loss= 1.043389352468344\n",
      "Train accuracy= 0.8549999964237213\n",
      "Validation accuracy 0.7000000041264755\n"
     ]
    }
   ],
   "source": [
    "history = dropout_network.fit_generator(\n",
    "    train_generator, steps_per_epoch=54, epochs=30,\n",
    "    validation_data=val_generator, validation_steps=13,\n",
    "    callbacks=[EarlyStopping(monitor=\"val_loss\", patience=2)],\n",
    "    verbose=0)\n",
    "\n",
    "results = history.history\n",
    "no_epochs_runned= len(results[\"acc\"]) + 1 \n",
    "print(\"We can see that the model stopped training after epoches =\", no_epochs_runned)\n",
    "\n",
    "# Since patience was 2, perhaps display the metrics from just before that point\n",
    "train_loss = history.history[\"loss\"][-3]\n",
    "val_loss = history.history[\"val_loss\"][-3]\n",
    "train_acc = history.history[\"acc\"][-3]\n",
    "val_acc = history.history[\"val_acc\"][-3]\n",
    "\n",
    "print(\"Using the original dataset:\")\n",
    "print(\"Train loss=\",train_loss)\n",
    "print(\"Validation loss=\",val_loss)\n",
    "print(\"Train accuracy=\", train_acc)\n",
    "print(\"Validation accuracy\", val_acc)"
   ]
  },
  {
   "cell_type": "markdown",
   "metadata": {},
   "source": [
    " <p dir=\"ltr\"><span style=\"font-size: 24px;\"><strong>Transfer Learning</strong></span></p>"
   ]
  },
  {
   "cell_type": "code",
   "execution_count": 6,
   "metadata": {},
   "outputs": [
    {
     "name": "stdout",
     "output_type": "stream",
     "text": [
      "Found 1097 images belonging to 10 classes.\n",
      "Found 272 images belonging to 10 classes.\n",
      "Epoch 1/1\n",
      "54/54 [==============================] - ETA: 33:03 - loss: 2.7699 - acc: 0.10 - ETA: 27:46 - loss: 2.7083 - acc: 0.10 - ETA: 24:52 - loss: 2.5345 - acc: 0.15 - ETA: 23:06 - loss: 2.5070 - acc: 0.11 - ETA: 21:45 - loss: 2.4705 - acc: 0.12 - ETA: 21:25 - loss: 2.4216 - acc: 0.14 - ETA: 20:40 - loss: 2.3551 - acc: 0.13 - ETA: 19:57 - loss: 2.3446 - acc: 0.14 - ETA: 19:26 - loss: 2.3193 - acc: 0.16 - ETA: 18:53 - loss: 2.3112 - acc: 0.16 - ETA: 18:37 - loss: 2.2979 - acc: 0.15 - ETA: 18:12 - loss: 2.2706 - acc: 0.18 - ETA: 17:45 - loss: 2.2592 - acc: 0.20 - ETA: 17:21 - loss: 2.2435 - acc: 0.20 - ETA: 16:52 - loss: 2.2208 - acc: 0.21 - ETA: 16:25 - loss: 2.1911 - acc: 0.21 - ETA: 15:58 - loss: 2.1753 - acc: 0.23 - ETA: 15:31 - loss: 2.1378 - acc: 0.24 - ETA: 15:08 - loss: 2.1288 - acc: 0.25 - ETA: 14:43 - loss: 2.1184 - acc: 0.25 - ETA: 14:39 - loss: 2.0869 - acc: 0.26 - ETA: 15:03 - loss: 2.0585 - acc: 0.27 - ETA: 14:39 - loss: 2.0434 - acc: 0.28 - ETA: 14:10 - loss: 2.0298 - acc: 0.28 - ETA: 13:41 - loss: 2.0076 - acc: 0.29 - ETA: 13:11 - loss: 2.0053 - acc: 0.29 - ETA: 12:40 - loss: 1.9829 - acc: 0.31 - ETA: 12:10 - loss: 1.9710 - acc: 0.32 - ETA: 11:48 - loss: 1.9505 - acc: 0.32 - ETA: 11:37 - loss: 1.9365 - acc: 0.33 - ETA: 11:10 - loss: 1.9217 - acc: 0.35 - ETA: 10:40 - loss: 1.9111 - acc: 0.35 - ETA: 10:11 - loss: 1.8953 - acc: 0.35 - ETA: 9:49 - loss: 1.8936 - acc: 0.3529 - ETA: 9:18 - loss: 1.8762 - acc: 0.358 - ETA: 8:45 - loss: 1.8618 - acc: 0.370 - ETA: 8:20 - loss: 1.8434 - acc: 0.381 - ETA: 7:54 - loss: 1.8273 - acc: 0.388 - ETA: 7:27 - loss: 1.8208 - acc: 0.393 - ETA: 7:00 - loss: 1.8087 - acc: 0.398 - ETA: 6:32 - loss: 1.7936 - acc: 0.406 - ETA: 6:01 - loss: 1.7771 - acc: 0.413 - ETA: 5:30 - loss: 1.7612 - acc: 0.420 - ETA: 4:59 - loss: 1.7499 - acc: 0.425 - ETA: 4:29 - loss: 1.7359 - acc: 0.433 - ETA: 3:58 - loss: 1.7225 - acc: 0.440 - ETA: 3:28 - loss: 1.7070 - acc: 0.448 - ETA: 2:57 - loss: 1.6913 - acc: 0.457 - ETA: 2:27 - loss: 1.6783 - acc: 0.463 - ETA: 1:57 - loss: 1.6694 - acc: 0.468 - ETA: 1:28 - loss: 1.6581 - acc: 0.472 - ETA: 58s - loss: 1.6428 - acc: 0.478 - ETA: 29s - loss: 1.6359 - acc: 0.48 - 2108s 39s/step - loss: 1.6205 - acc: 0.4854 - val_loss: 1.1393 - val_acc: 0.6025\n"
     ]
    },
    {
     "data": {
      "text/plain": [
       "<keras.callbacks.History at 0x1ace4b06048>"
      ]
     },
     "execution_count": 6,
     "metadata": {},
     "output_type": "execute_result"
    }
   ],
   "source": [
    "# take pretrained network's weights without its last layer's weights (notop)\n",
    "resnet_weights_path = '../pretrainedWeights/resnet50_weights_tf_dim_ordering_tf_kernels_notop.h5'\n",
    "\n",
    "from_pretrained_network = Sequential()\n",
    "\n",
    "# add the pretrained model as first layer, include_top= False determines the exclusion of the last layer of the model\n",
    "# (the classification layer in the original pretrained classes)\n",
    "from_pretrained_network.add(ResNet50(include_top=False, pooling='avg', weights=resnet_weights_path))\n",
    "\n",
    "# add to the network a last layer compatible for 10 classes monkey classification \n",
    "from_pretrained_network.add(Dense(10, activation='softmax'))\n",
    "\n",
    "# Set the first layer to be untrainable as it represents the pretrained network\n",
    "from_pretrained_network.layers[0].trainable = False\n",
    "\n",
    "from_pretrained_network.compile(optimizer='sgd', loss='categorical_crossentropy', metrics=['accuracy'])\n",
    "\n",
    "# the monkey images' size must match the size of the images of the original network \n",
    "original_image_size = 224\n",
    "\n",
    "\n",
    "\n",
    "pretrained_train_data_generator = ImageDataGenerator()\n",
    "pretrained_train_generator = pretrained_train_data_generator.flow_from_directory(\n",
    "        train_dir, target_size=(original_image_size, original_image_size),\n",
    "        batch_size=20,\n",
    "        class_mode='categorical')\n",
    "\n",
    "pretrained_validation_data_generator = ImageDataGenerator()\n",
    "pretrained_validation_generator = pretrained_validation_data_generator.flow_from_directory(\n",
    "        validate_dir, target_size=(original_image_size, original_image_size),\n",
    "        class_mode='categorical')\n",
    "\n",
    "from_pretrained_network.fit_generator(\n",
    "        pretrained_train_generator,\n",
    "        steps_per_epoch=54,\n",
    "        validation_data=pretrained_validation_generator,\n",
    "        validation_steps=13)\n"
   ]
  },
  {
   "cell_type": "code",
   "execution_count": null,
   "metadata": {},
   "outputs": [],
   "source": []
  }
 ],
 "metadata": {
  "kernelspec": {
   "display_name": "Python 3",
   "language": "python",
   "name": "python3"
  },
  "language_info": {
   "codemirror_mode": {
    "name": "ipython",
    "version": 3
   },
   "file_extension": ".py",
   "mimetype": "text/x-python",
   "name": "python",
   "nbconvert_exporter": "python",
   "pygments_lexer": "ipython3",
   "version": "3.5.5"
  }
 },
 "nbformat": 4,
 "nbformat_minor": 2
}
