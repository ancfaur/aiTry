{
 "cells": [
  {
   "cell_type": "code",
   "execution_count": 15,
   "metadata": {},
   "outputs": [
    {
     "name": "stdout",
     "output_type": "stream",
     "text": [
      "The watermark extension is already loaded. To reload it, use:\n",
      "  %reload_ext watermark\n",
      "tensorflow 1.7.0\n",
      "skimage 0.13.1\n",
      "matplotlib 2.2.2\n",
      "numpy 1.14.2\n",
      "random n\u0007\n"
     ]
    }
   ],
   "source": [
    "%load_ext watermark\n",
    "%watermark -p tensorflow,skimage,matplotlib,numpy,random\n",
    "\n",
    "\n",
    "import pandas as pd\n",
    "import numpy as np\n",
    "import matplotlib.pyplot as plt\n",
    "import h5py\n",
    "import os\n",
    "from random import shuffle\n",
    "from tqdm import tqdm\n",
    "\n",
    "import tensorflow as tf\n",
    "from keras.preprocessing.image import load_img, img_to_array, array_to_img\n",
    "from keras.preprocessing.image import ImageDataGenerator\n",
    "\n",
    "from keras.models import Sequential\n",
    "from keras.layers import Dense\n",
    "from keras.layers import Conv2D\n",
    "from keras.layers import MaxPooling2D\n",
    "from keras.layers import Flatten\n",
    "from keras.layers import Dropout\n",
    "\n",
    "from keras.models import load_model\n",
    "from keras.optimizers import RMSprop\n",
    "from keras.callbacks import EarlyStopping\n",
    "\n",
    "from keras.backend.tensorflow_backend import set_session\n",
    "config = tf.ConfigProto(log_device_placement=True)\n",
    "config.gpu_options.allow_growth = True\n",
    "#config.gpu_options.per_process_gpu_memory_fraction = 0.3\n",
    "set_session(tf.Session(config=config))\n"
   ]
  },
  {
   "cell_type": "code",
   "execution_count": 2,
   "metadata": {},
   "outputs": [],
   "source": [
    "# loading the data with the help of https://www.datacamp.com/community/tutorials/tensorflow-tutorial#tensors\n",
    "# and https://pythonprogramming.net/convolutional-neural-network-kats-vs-dogs-machine-learning-tutorial/\n",
    "\n",
    "def get_label(x):\n",
    "    return {\n",
    "        'n0': 0,\n",
    "        'n1': 1,\n",
    "        'n2': 2,\n",
    "        'n3': 3,\n",
    "        'n4': 4,\n",
    "        'n5': 5,\n",
    "        'n6': 6,\n",
    "        'n7': 7,\n",
    "        'n8': 8,\n",
    "        'n9': 9,\n",
    "    }[x]\n",
    "\n",
    "\n",
    "def load_data(data_directory, saveName):\n",
    "    # take the subdirectories of monkeys\n",
    "    subdirs = [subdir for subdir in os.listdir(data_directory)\n",
    "                   if os.path.isdir(os.path.join(data_directory, subdir))]\n",
    "    \n",
    "    prepare_data =[]\n",
    "    for subdir in tqdm(subdirs):\n",
    "        class_directory = os.path.join(data_directory, subdir)\n",
    "        file_names= [os.path.join(class_directory, file) for file in os.listdir(class_directory)]\n",
    "        for file in file_names:\n",
    "            image= data.imread(file, as_grey=True)\n",
    "            image= transform.resize(image, (256, 256))\n",
    "            label = get_label(subdir)\n",
    "            prepare_data.append([np.array(image), label])\n",
    "    \n",
    "    shuffle(prepare_data)\n",
    "    name = saveName +'.npy'\n",
    "    np.save(name, prepare_data)\n",
    "   \n",
    "    return prepare_data\n"
   ]
  },
  {
   "cell_type": "code",
   "execution_count": 16,
   "metadata": {},
   "outputs": [
    {
     "name": "stdout",
     "output_type": "stream",
     "text": [
      "   Label                Latin Name                      Common Name  \\\n",
      "0  n0         alouatta_palliata\\t    mantled_howler                   \n",
      "1  n1        erythrocebus_patas\\t    patas_monkey                     \n",
      "2  n2        cacajao_calvus\\t        bald_uakari                      \n",
      "3  n3        macaca_fuscata\\t        japanese_macaque                 \n",
      "4  n4       cebuella_pygmea\\t        pygmy_marmoset                   \n",
      "5  n5       cebus_capucinus\\t        white_headed_capuchin            \n",
      "6  n6       mico_argentatus\\t        silvery_marmoset                 \n",
      "7  n7      saimiri_sciureus\\t        common_squirrel_monkey           \n",
      "8  n8       aotus_nigriceps\\t        black_headed_night_monkey        \n",
      "9  n9       trachypithecus_johnii    nilgiri_langur                   \n",
      "\n",
      "   Train Images  Validation Images  \n",
      "0           131                 26  \n",
      "1           139                 28  \n",
      "2           137                 27  \n",
      "3           152                 30  \n",
      "4           131                 26  \n",
      "5           141                 28  \n",
      "6           132                 26  \n",
      "7           142                 28  \n",
      "8           133                 27  \n",
      "9           132                 26  \n"
     ]
    }
   ],
   "source": [
    "train_dir = '../monkeyDataset/training'\n",
    "validate_dir = '../monkeyDataset/validation'\n",
    "\n",
    "cols = ['Label','Latin Name', 'Common Name','Train Images', 'Validation Images']\n",
    "labels = pd.read_csv(\"../monkeyDataset/monkey_labels.txt\", names=cols, skiprows=1)\n",
    "print(labels)"
   ]
  },
  {
   "cell_type": "code",
   "execution_count": 17,
   "metadata": {},
   "outputs": [
    {
     "name": "stdout",
     "output_type": "stream",
     "text": [
      "Found 1097 images belonging to 10 classes.\n",
      "Found 272 images belonging to 10 classes.\n"
     ]
    }
   ],
   "source": [
    "train_dir = '../monkeyDataset/training'\n",
    "validate_dir = '../monkeyDataset/validation'\n",
    "\n",
    "train_data_generator = ImageDataGenerator(rescale=1./255)\n",
    "train_generator = train_data_generator.flow_from_directory(\n",
    "    train_dir, target_size=(150,150), batch_size=20, class_mode=\"categorical\")\n",
    "\n",
    "val_data_generator = ImageDataGenerator(rescale=1./255)\n",
    "val_generator = val_data_generator.flow_from_directory(\n",
    "    validate_dir, target_size=(150,150), batch_size=20, class_mode=\"categorical\")\n"
   ]
  },
  {
   "cell_type": "code",
   "execution_count": 18,
   "metadata": {},
   "outputs": [],
   "source": [
    "def build_convnet():\n",
    "    network = Sequential()\n",
    "    network.add(Conv2D(32, (3, 3), activation=\"relu\", input_shape=(150, 150, 3)))\n",
    "    network.add(MaxPooling2D((2, 2)))\n",
    "    network.add(Conv2D(64, (3, 3), activation=\"relu\"))\n",
    "    network.add(MaxPooling2D((2, 2)))\n",
    "    network.add(Conv2D(128, (3, 3), activation=\"relu\"))\n",
    "    network.add(MaxPooling2D((2, 2)))\n",
    "    network.add(Conv2D(128, (3, 3), activation=\"relu\"))\n",
    "    network.add(MaxPooling2D((2, 2)))\n",
    "    network.add(Flatten())\n",
    "    network.add(Dense(512, activation=\"relu\"))\n",
    "    network.add(Dense(10, activation=\"softmax\"))\n",
    "    network.compile(optimizer=RMSprop(lr=0.0003), loss=\"categorical_crossentropy\", metrics=[\"accuracy\"])\n",
    "    return network"
   ]
  },
  {
   "cell_type": "code",
   "execution_count": 19,
   "metadata": {},
   "outputs": [
    {
     "name": "stdout",
     "output_type": "stream",
     "text": [
      "_________________________________________________________________\n",
      "Layer (type)                 Output Shape              Param #   \n",
      "=================================================================\n",
      "conv2d_9 (Conv2D)            (None, 148, 148, 32)      896       \n",
      "_________________________________________________________________\n",
      "max_pooling2d_9 (MaxPooling2 (None, 74, 74, 32)        0         \n",
      "_________________________________________________________________\n",
      "conv2d_10 (Conv2D)           (None, 72, 72, 64)        18496     \n",
      "_________________________________________________________________\n",
      "max_pooling2d_10 (MaxPooling (None, 36, 36, 64)        0         \n",
      "_________________________________________________________________\n",
      "conv2d_11 (Conv2D)           (None, 34, 34, 128)       73856     \n",
      "_________________________________________________________________\n",
      "max_pooling2d_11 (MaxPooling (None, 17, 17, 128)       0         \n",
      "_________________________________________________________________\n",
      "conv2d_12 (Conv2D)           (None, 15, 15, 128)       147584    \n",
      "_________________________________________________________________\n",
      "max_pooling2d_12 (MaxPooling (None, 7, 7, 128)         0         \n",
      "_________________________________________________________________\n",
      "flatten_3 (Flatten)          (None, 6272)              0         \n",
      "_________________________________________________________________\n",
      "dense_5 (Dense)              (None, 512)               3211776   \n",
      "_________________________________________________________________\n",
      "dense_6 (Dense)              (None, 10)                5130      \n",
      "=================================================================\n",
      "Total params: 3,457,738\n",
      "Trainable params: 3,457,738\n",
      "Non-trainable params: 0\n",
      "_________________________________________________________________\n"
     ]
    }
   ],
   "source": [
    "network = build_convnet()\n",
    "network.summary()"
   ]
  },
  {
   "cell_type": "code",
   "execution_count": 20,
   "metadata": {
    "scrolled": false
   },
   "outputs": [],
   "source": [
    "history = network.fit_generator(\n",
    "    train_generator, steps_per_epoch=100, epochs=30,\n",
    "    validation_data=val_generator, validation_steps=50,\n",
    "    callbacks=[EarlyStopping(monitor=\"val_loss\", patience=2)],\n",
    "    verbose=0)"
   ]
  },
  {
   "cell_type": "code",
   "execution_count": 23,
   "metadata": {},
   "outputs": [
    {
     "data": {
      "image/png": "[encoded data removed]",
      "text/plain": [
       "<Figure size 432x288 with 1 Axes>"
      ]
     },
     "metadata": {},
     "output_type": "display_data"
    }
   ],
   "source": [
    "train_loss = history.history[\"loss\"]\n",
    "val_loss = history.history[\"val_loss\"]\n",
    "\n",
    "x_vals = range(1, 8)\n",
    "fig = plt.figure()\n",
    "plt.title(\"Loss\")\n",
    "plt.plot(x_vals, train_loss, label=\"Training loss\", color = \"purple\")\n",
    "plt.plot(x_vals, val_loss, label=\"Validation loss\", color = \"orange\")\n",
    "plt.legend()\n",
    "plt.show()"
   ]
  },
  {
   "cell_type": "code",
   "execution_count": 24,
   "metadata": {},
   "outputs": [
    {
     "data": {
      "image/png": "[encoded data removed]",
      "text/plain": [
       "<Figure size 432x288 with 1 Axes>"
      ]
     },
     "metadata": {},
     "output_type": "display_data"
    }
   ],
   "source": [
    "train_acc = history.history[\"acc\"]\n",
    "val_acc = history.history[\"val_acc\"]\n",
    "\n",
    "fig = plt.figure()\n",
    "plt.title(\"Accuracy\")\n",
    "plt.plot(x_vals, train_acc, label=\"Training accuracy\", color = \"purple\")\n",
    "plt.plot(x_vals, val_acc, label=\"Validation accuracy\", color = \"orange\")\n",
    "plt.legend()\n",
    "plt.show()"
   ]
  },
  {
   "cell_type": "code",
   "execution_count": 25,
   "metadata": {},
   "outputs": [
    {
     "name": "stdout",
     "output_type": "stream",
     "text": [
      "Train loss= 0.524979982317422\n",
      "Validation loss= 1.0158501123307182\n",
      "Train accuracy= 0.8272225010760282\n",
      "Validation accuracy 0.6475409838508387\n"
     ]
    }
   ],
   "source": [
    "# Since patience was 2, perhaps display the metrics from just before that point\n",
    "train_loss = history.history[\"loss\"][-3]\n",
    "val_loss = history.history[\"val_loss\"][-3]\n",
    "train_acc = history.history[\"acc\"][-3]\n",
    "val_acc = history.history[\"val_acc\"][-3]\n",
    "\n",
    "print(\"Train loss=\",train_loss)\n",
    "print(\"Validation loss=\",val_loss)\n",
    "print(\"Train accuracy=\", train_acc)\n",
    "print(\"Validation accuracy\", val_acc)"
   ]
  },
  {
   "cell_type": "code",
   "execution_count": null,
   "metadata": {},
   "outputs": [],
   "source": []
  }
 ],
 "metadata": {
  "kernelspec": {
   "display_name": "Python 3",
   "language": "python",
   "name": "python3"
  },
  "language_info": {
   "codemirror_mode": {
    "name": "ipython",
    "version": 3
   },
   "file_extension": ".py",
   "mimetype": "text/x-python",
   "name": "python",
   "nbconvert_exporter": "python",
   "pygments_lexer": "ipython3",
   "version": "3.5.5"
  }
 },
 "nbformat": 4,
 "nbformat_minor": 2
}
